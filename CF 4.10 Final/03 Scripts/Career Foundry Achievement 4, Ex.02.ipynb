{
 "cells": [
  {
   "cell_type": "code",
   "execution_count": 1,
   "id": "65adc8fa",
   "metadata": {},
   "outputs": [],
   "source": [
    "import pandas as pd\n",
    "import numpy as np\n",
    "import os"
   ]
  },
  {
   "cell_type": "code",
   "execution_count": 2,
   "id": "813ee5d1",
   "metadata": {},
   "outputs": [],
   "source": [
    "#libraries imported\n"
   ]
  },
  {
   "cell_type": "markdown",
   "id": "9c296049",
   "metadata": {},
   "source": [
    "#2 Procedures with Data Types"
   ]
  },
  {
   "cell_type": "code",
   "execution_count": 3,
   "id": "cfecd21e",
   "metadata": {},
   "outputs": [
    {
     "data": {
      "text/plain": [
       "100"
      ]
     },
     "execution_count": 3,
     "metadata": {},
     "output_type": "execute_result"
    }
   ],
   "source": [
    "99+1"
   ]
  },
  {
   "cell_type": "code",
   "execution_count": 4,
   "id": "2aa10566",
   "metadata": {},
   "outputs": [
    {
     "name": "stdout",
     "output_type": "stream",
     "text": [
      "100\n"
     ]
    }
   ],
   "source": [
    "x = 45\n",
    "y = 55\n",
    "print (x+y)"
   ]
  },
  {
   "cell_type": "code",
   "execution_count": 5,
   "id": "9a210dd7",
   "metadata": {},
   "outputs": [
    {
     "data": {
      "text/plain": [
       "100"
      ]
     },
     "execution_count": 5,
     "metadata": {},
     "output_type": "execute_result"
    }
   ],
   "source": [
    "y * 2 - 10"
   ]
  },
  {
   "cell_type": "code",
   "execution_count": 6,
   "id": "3b0f47dc",
   "metadata": {},
   "outputs": [
    {
     "data": {
      "text/plain": [
       "30.400000000000002"
      ]
     },
     "execution_count": 6,
     "metadata": {},
     "output_type": "execute_result"
    }
   ],
   "source": [
    "a = 45.60\n",
    "b = 1.5\n",
    "a / b"
   ]
  },
  {
   "cell_type": "code",
   "execution_count": 7,
   "id": "a8cfa492",
   "metadata": {},
   "outputs": [
    {
     "data": {
      "text/plain": [
       "'Beer Pong is a great way to destroy your liver.'"
      ]
     },
     "execution_count": 7,
     "metadata": {},
     "output_type": "execute_result"
    }
   ],
   "source": [
    "a='Beer Pong '\n",
    "b='is a great way to destroy your liver.'\n",
    "a + b"
   ]
  },
  {
   "cell_type": "code",
   "execution_count": 8,
   "id": "92e41b4b",
   "metadata": {},
   "outputs": [],
   "source": [
    "x = 'Deez '"
   ]
  },
  {
   "cell_type": "code",
   "execution_count": 9,
   "id": "5ca15fb9",
   "metadata": {},
   "outputs": [],
   "source": [
    "y = 'Nutz'"
   ]
  },
  {
   "cell_type": "code",
   "execution_count": 12,
   "id": "28d5c5eb",
   "metadata": {},
   "outputs": [
    {
     "name": "stdout",
     "output_type": "stream",
     "text": [
      "The answer to the question is... \n"
     ]
    },
    {
     "data": {
      "text/plain": [
       "'Deez Nutz'"
      ]
     },
     "execution_count": 12,
     "metadata": {},
     "output_type": "execute_result"
    }
   ],
   "source": [
    "print ('The answer to the question is... ')\n",
    "x + y"
   ]
  },
  {
   "cell_type": "markdown",
   "id": "306378fd",
   "metadata": {},
   "source": [
    "# BONUS TASK"
   ]
  },
  {
   "cell_type": "code",
   "execution_count": 13,
   "id": "4790a971",
   "metadata": {},
   "outputs": [],
   "source": [
    "n = 'Beer '"
   ]
  },
  {
   "cell_type": "code",
   "execution_count": 14,
   "id": "87ff853c",
   "metadata": {},
   "outputs": [
    {
     "data": {
      "text/plain": [
       "'Beer Beer Beer Beer Beer Beer Beer Beer Beer Beer Beer Beer Beer Beer Beer Beer Beer Beer Beer Beer Beer Beer Beer Beer Beer Beer Beer Beer Beer Beer Beer Beer Beer Beer Beer Beer Beer Beer Beer Beer Beer Beer Beer Beer Beer Beer Beer Beer Beer Beer Beer Beer Beer Beer Beer Beer Beer Beer Beer Beer Beer Beer Beer Beer Beer Beer Beer Beer Beer Beer Beer Beer Beer Beer Beer Beer Beer Beer Beer Beer Beer Beer Beer Beer Beer Beer Beer Beer Beer Beer Beer Beer Beer Beer Beer Beer Beer Beer Beer Beer '"
      ]
     },
     "execution_count": 14,
     "metadata": {},
     "output_type": "execute_result"
    }
   ],
   "source": [
    "n * 100"
   ]
  },
  {
   "cell_type": "code",
   "execution_count": null,
   "id": "935caef7",
   "metadata": {},
   "outputs": [],
   "source": []
  }
 ],
 "metadata": {
  "kernelspec": {
   "display_name": "Python 3 (ipykernel)",
   "language": "python",
   "name": "python3"
  },
  "language_info": {
   "codemirror_mode": {
    "name": "ipython",
    "version": 3
   },
   "file_extension": ".py",
   "mimetype": "text/x-python",
   "name": "python",
   "nbconvert_exporter": "python",
   "pygments_lexer": "ipython3",
   "version": "3.10.9"
  }
 },
 "nbformat": 4,
 "nbformat_minor": 5
}
