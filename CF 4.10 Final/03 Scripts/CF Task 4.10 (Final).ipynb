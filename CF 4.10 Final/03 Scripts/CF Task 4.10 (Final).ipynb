{
 "cells": [
  {
   "cell_type": "markdown",
   "id": "c1a7c869",
   "metadata": {},
   "source": [
    "### Importing and Setting paths\n",
    "####"
   ]
  },
  {
   "cell_type": "code",
   "execution_count": 1,
   "id": "8b3131eb",
   "metadata": {},
   "outputs": [],
   "source": [
    "import pandas as pd\n",
    "import numpy as np\n",
    "import os\n",
    "import matplotlib.pyplot as plt\n",
    "import seaborn as sns\n",
    "import scipy"
   ]
  },
  {
   "cell_type": "code",
   "execution_count": 2,
   "id": "023f7f96",
   "metadata": {},
   "outputs": [],
   "source": [
    "path = r'/Users/ECC/Career Foundry/Anaconda Python CF Exercises'\n",
    "C_MERGE = pd.read_pickle(r'/Users/ECC/Career Foundry/Anaconda Python CF Exercises/02 Data/Prepared Data/C_MERGE.pkl')\n"
   ]
  },
  {
   "cell_type": "code",
   "execution_count": 3,
   "id": "b951f370",
   "metadata": {},
   "outputs": [],
   "source": [
    "## Using the complete C_MERGE df created with all essential data; stripped of unneccesary information\n",
    "## Checking all data before proceeding"
   ]
  },
  {
   "cell_type": "code",
   "execution_count": 4,
   "id": "fe7afdd6",
   "metadata": {},
   "outputs": [
    {
     "data": {
      "text/html": [
       "<div>\n",
       "<style scoped>\n",
       "    .dataframe tbody tr th:only-of-type {\n",
       "        vertical-align: middle;\n",
       "    }\n",
       "\n",
       "    .dataframe tbody tr th {\n",
       "        vertical-align: top;\n",
       "    }\n",
       "\n",
       "    .dataframe thead th {\n",
       "        text-align: right;\n",
       "    }\n",
       "</style>\n",
       "<table border=\"1\" class=\"dataframe\">\n",
       "  <thead>\n",
       "    <tr style=\"text-align: right;\">\n",
       "      <th></th>\n",
       "      <th>user_id</th>\n",
       "      <th>Gender</th>\n",
       "      <th>STATE</th>\n",
       "      <th>Age</th>\n",
       "      <th>date_joined</th>\n",
       "      <th>Dependents</th>\n",
       "      <th>Marital_status</th>\n",
       "      <th>income</th>\n",
       "      <th>order_id</th>\n",
       "      <th>order_number</th>\n",
       "      <th>...</th>\n",
       "      <th>loyalty_flag</th>\n",
       "      <th>mean_spending</th>\n",
       "      <th>spending_flag</th>\n",
       "      <th>median_order_days</th>\n",
       "      <th>median_flag</th>\n",
       "      <th>Region</th>\n",
       "      <th>Customer_activity</th>\n",
       "      <th>Age_group</th>\n",
       "      <th>Unnamed: 0</th>\n",
       "      <th>department</th>\n",
       "    </tr>\n",
       "  </thead>\n",
       "  <tbody>\n",
       "    <tr>\n",
       "      <th>0</th>\n",
       "      <td>26711</td>\n",
       "      <td>Female</td>\n",
       "      <td>Missouri</td>\n",
       "      <td>48</td>\n",
       "      <td>1/1/2017</td>\n",
       "      <td>3</td>\n",
       "      <td>married</td>\n",
       "      <td>165665</td>\n",
       "      <td>2543867</td>\n",
       "      <td>5</td>\n",
       "      <td>...</td>\n",
       "      <td>New customer</td>\n",
       "      <td>12.6</td>\n",
       "      <td>High spender</td>\n",
       "      <td>19.0</td>\n",
       "      <td>NaN</td>\n",
       "      <td>Midwest</td>\n",
       "      <td>High-activity customer</td>\n",
       "      <td>Middle-aged</td>\n",
       "      <td>9966</td>\n",
       "      <td>beverages</td>\n",
       "    </tr>\n",
       "    <tr>\n",
       "      <th>1</th>\n",
       "      <td>26711</td>\n",
       "      <td>Female</td>\n",
       "      <td>Missouri</td>\n",
       "      <td>48</td>\n",
       "      <td>1/1/2017</td>\n",
       "      <td>3</td>\n",
       "      <td>married</td>\n",
       "      <td>165665</td>\n",
       "      <td>1285508</td>\n",
       "      <td>7</td>\n",
       "      <td>...</td>\n",
       "      <td>New customer</td>\n",
       "      <td>12.6</td>\n",
       "      <td>High spender</td>\n",
       "      <td>19.0</td>\n",
       "      <td>NaN</td>\n",
       "      <td>Midwest</td>\n",
       "      <td>High-activity customer</td>\n",
       "      <td>Middle-aged</td>\n",
       "      <td>9966</td>\n",
       "      <td>beverages</td>\n",
       "    </tr>\n",
       "    <tr>\n",
       "      <th>2</th>\n",
       "      <td>26711</td>\n",
       "      <td>Female</td>\n",
       "      <td>Missouri</td>\n",
       "      <td>48</td>\n",
       "      <td>1/1/2017</td>\n",
       "      <td>3</td>\n",
       "      <td>married</td>\n",
       "      <td>165665</td>\n",
       "      <td>2578584</td>\n",
       "      <td>8</td>\n",
       "      <td>...</td>\n",
       "      <td>New customer</td>\n",
       "      <td>12.6</td>\n",
       "      <td>High spender</td>\n",
       "      <td>19.0</td>\n",
       "      <td>NaN</td>\n",
       "      <td>Midwest</td>\n",
       "      <td>High-activity customer</td>\n",
       "      <td>Middle-aged</td>\n",
       "      <td>9966</td>\n",
       "      <td>beverages</td>\n",
       "    </tr>\n",
       "    <tr>\n",
       "      <th>3</th>\n",
       "      <td>26711</td>\n",
       "      <td>Female</td>\n",
       "      <td>Missouri</td>\n",
       "      <td>48</td>\n",
       "      <td>1/1/2017</td>\n",
       "      <td>3</td>\n",
       "      <td>married</td>\n",
       "      <td>165665</td>\n",
       "      <td>423547</td>\n",
       "      <td>2</td>\n",
       "      <td>...</td>\n",
       "      <td>New customer</td>\n",
       "      <td>12.6</td>\n",
       "      <td>High spender</td>\n",
       "      <td>19.0</td>\n",
       "      <td>NaN</td>\n",
       "      <td>Midwest</td>\n",
       "      <td>High-activity customer</td>\n",
       "      <td>Middle-aged</td>\n",
       "      <td>35934</td>\n",
       "      <td>dairy eggs</td>\n",
       "    </tr>\n",
       "    <tr>\n",
       "      <th>4</th>\n",
       "      <td>26711</td>\n",
       "      <td>Female</td>\n",
       "      <td>Missouri</td>\n",
       "      <td>48</td>\n",
       "      <td>1/1/2017</td>\n",
       "      <td>3</td>\n",
       "      <td>married</td>\n",
       "      <td>165665</td>\n",
       "      <td>2524893</td>\n",
       "      <td>3</td>\n",
       "      <td>...</td>\n",
       "      <td>New customer</td>\n",
       "      <td>12.6</td>\n",
       "      <td>High spender</td>\n",
       "      <td>19.0</td>\n",
       "      <td>NaN</td>\n",
       "      <td>Midwest</td>\n",
       "      <td>High-activity customer</td>\n",
       "      <td>Middle-aged</td>\n",
       "      <td>35934</td>\n",
       "      <td>dairy eggs</td>\n",
       "    </tr>\n",
       "  </tbody>\n",
       "</table>\n",
       "<p>5 rows × 31 columns</p>\n",
       "</div>"
      ],
      "text/plain": [
       "   user_id  Gender     STATE  Age date_joined  Dependents Marital_status  \\\n",
       "0    26711  Female  Missouri   48    1/1/2017           3        married   \n",
       "1    26711  Female  Missouri   48    1/1/2017           3        married   \n",
       "2    26711  Female  Missouri   48    1/1/2017           3        married   \n",
       "3    26711  Female  Missouri   48    1/1/2017           3        married   \n",
       "4    26711  Female  Missouri   48    1/1/2017           3        married   \n",
       "\n",
       "   income  order_id  order_number  ...  loyalty_flag  mean_spending  \\\n",
       "0  165665   2543867             5  ...  New customer           12.6   \n",
       "1  165665   1285508             7  ...  New customer           12.6   \n",
       "2  165665   2578584             8  ...  New customer           12.6   \n",
       "3  165665    423547             2  ...  New customer           12.6   \n",
       "4  165665   2524893             3  ...  New customer           12.6   \n",
       "\n",
       "   spending_flag  median_order_days  median_flag   Region  \\\n",
       "0   High spender               19.0          NaN  Midwest   \n",
       "1   High spender               19.0          NaN  Midwest   \n",
       "2   High spender               19.0          NaN  Midwest   \n",
       "3   High spender               19.0          NaN  Midwest   \n",
       "4   High spender               19.0          NaN  Midwest   \n",
       "\n",
       "        Customer_activity    Age_group Unnamed: 0  department  \n",
       "0  High-activity customer  Middle-aged       9966   beverages  \n",
       "1  High-activity customer  Middle-aged       9966   beverages  \n",
       "2  High-activity customer  Middle-aged       9966   beverages  \n",
       "3  High-activity customer  Middle-aged      35934  dairy eggs  \n",
       "4  High-activity customer  Middle-aged      35934  dairy eggs  \n",
       "\n",
       "[5 rows x 31 columns]"
      ]
     },
     "execution_count": 4,
     "metadata": {},
     "output_type": "execute_result"
    }
   ],
   "source": [
    "C_MERGE.head()"
   ]
  },
  {
   "cell_type": "code",
   "execution_count": 5,
   "id": "fa0e9166",
   "metadata": {},
   "outputs": [],
   "source": [
    "## Create a regional segmentation of the data. \n",
    "## You’ll need to create a “Region” column based on the “State” column from your customers data set. \n",
    "\n",
    "region=[]\n",
    "for value in C_MERGE['STATE']:\n",
    "    if value in ['Maine','New Hampshire','Vermont','Massachusetts','Rhode Island','Connecticut','New York','Pennsylvania','New Jersey']:\n",
    "        region.append('Northeast')\n",
    "    elif value in ['Wisconsin','Michigan','Illinois','Indiana','Ohio','North Dakota','South Dakota','Nebraska','Kansas','Minnesota','Iowa','Missouri']:\n",
    "        region.append('Midwest')\n",
    "    elif value in ['Delaware','Maryland','District of Columbia','Virginia','West Virginia','North Carolina','South Carolina','Georgia','Florida','Kentucky','Tennessee','Mississippi','Alabama','Oklahoma','Texas','Arkansas','Louisiana']:\n",
    "        region.append('South')\n",
    "    else:\n",
    "        region.append('West')"
   ]
  },
  {
   "cell_type": "code",
   "execution_count": 7,
   "id": "2a340f5c",
   "metadata": {},
   "outputs": [
    {
     "data": {
      "text/html": [
       "<div>\n",
       "<style scoped>\n",
       "    .dataframe tbody tr th:only-of-type {\n",
       "        vertical-align: middle;\n",
       "    }\n",
       "\n",
       "    .dataframe tbody tr th {\n",
       "        vertical-align: top;\n",
       "    }\n",
       "\n",
       "    .dataframe thead th {\n",
       "        text-align: right;\n",
       "    }\n",
       "</style>\n",
       "<table border=\"1\" class=\"dataframe\">\n",
       "  <thead>\n",
       "    <tr style=\"text-align: right;\">\n",
       "      <th></th>\n",
       "      <th>user_id</th>\n",
       "      <th>Gender</th>\n",
       "      <th>STATE</th>\n",
       "      <th>Age</th>\n",
       "      <th>date_joined</th>\n",
       "      <th>Dependents</th>\n",
       "      <th>Marital_status</th>\n",
       "      <th>income</th>\n",
       "      <th>order_id</th>\n",
       "      <th>order_number</th>\n",
       "      <th>...</th>\n",
       "      <th>loyalty_flag</th>\n",
       "      <th>mean_spending</th>\n",
       "      <th>spending_flag</th>\n",
       "      <th>median_order_days</th>\n",
       "      <th>median_flag</th>\n",
       "      <th>Region</th>\n",
       "      <th>Customer_activity</th>\n",
       "      <th>Age_group</th>\n",
       "      <th>Unnamed: 0</th>\n",
       "      <th>department</th>\n",
       "    </tr>\n",
       "  </thead>\n",
       "  <tbody>\n",
       "    <tr>\n",
       "      <th>0</th>\n",
       "      <td>26711</td>\n",
       "      <td>Female</td>\n",
       "      <td>Missouri</td>\n",
       "      <td>48</td>\n",
       "      <td>1/1/2017</td>\n",
       "      <td>3</td>\n",
       "      <td>married</td>\n",
       "      <td>165665</td>\n",
       "      <td>2543867</td>\n",
       "      <td>5</td>\n",
       "      <td>...</td>\n",
       "      <td>New customer</td>\n",
       "      <td>12.6</td>\n",
       "      <td>High spender</td>\n",
       "      <td>19.0</td>\n",
       "      <td>NaN</td>\n",
       "      <td>Midwest</td>\n",
       "      <td>High-activity customer</td>\n",
       "      <td>Middle-aged</td>\n",
       "      <td>9966</td>\n",
       "      <td>beverages</td>\n",
       "    </tr>\n",
       "    <tr>\n",
       "      <th>1</th>\n",
       "      <td>26711</td>\n",
       "      <td>Female</td>\n",
       "      <td>Missouri</td>\n",
       "      <td>48</td>\n",
       "      <td>1/1/2017</td>\n",
       "      <td>3</td>\n",
       "      <td>married</td>\n",
       "      <td>165665</td>\n",
       "      <td>1285508</td>\n",
       "      <td>7</td>\n",
       "      <td>...</td>\n",
       "      <td>New customer</td>\n",
       "      <td>12.6</td>\n",
       "      <td>High spender</td>\n",
       "      <td>19.0</td>\n",
       "      <td>NaN</td>\n",
       "      <td>Midwest</td>\n",
       "      <td>High-activity customer</td>\n",
       "      <td>Middle-aged</td>\n",
       "      <td>9966</td>\n",
       "      <td>beverages</td>\n",
       "    </tr>\n",
       "    <tr>\n",
       "      <th>2</th>\n",
       "      <td>26711</td>\n",
       "      <td>Female</td>\n",
       "      <td>Missouri</td>\n",
       "      <td>48</td>\n",
       "      <td>1/1/2017</td>\n",
       "      <td>3</td>\n",
       "      <td>married</td>\n",
       "      <td>165665</td>\n",
       "      <td>2578584</td>\n",
       "      <td>8</td>\n",
       "      <td>...</td>\n",
       "      <td>New customer</td>\n",
       "      <td>12.6</td>\n",
       "      <td>High spender</td>\n",
       "      <td>19.0</td>\n",
       "      <td>NaN</td>\n",
       "      <td>Midwest</td>\n",
       "      <td>High-activity customer</td>\n",
       "      <td>Middle-aged</td>\n",
       "      <td>9966</td>\n",
       "      <td>beverages</td>\n",
       "    </tr>\n",
       "    <tr>\n",
       "      <th>3</th>\n",
       "      <td>26711</td>\n",
       "      <td>Female</td>\n",
       "      <td>Missouri</td>\n",
       "      <td>48</td>\n",
       "      <td>1/1/2017</td>\n",
       "      <td>3</td>\n",
       "      <td>married</td>\n",
       "      <td>165665</td>\n",
       "      <td>423547</td>\n",
       "      <td>2</td>\n",
       "      <td>...</td>\n",
       "      <td>New customer</td>\n",
       "      <td>12.6</td>\n",
       "      <td>High spender</td>\n",
       "      <td>19.0</td>\n",
       "      <td>NaN</td>\n",
       "      <td>Midwest</td>\n",
       "      <td>High-activity customer</td>\n",
       "      <td>Middle-aged</td>\n",
       "      <td>35934</td>\n",
       "      <td>dairy eggs</td>\n",
       "    </tr>\n",
       "    <tr>\n",
       "      <th>4</th>\n",
       "      <td>26711</td>\n",
       "      <td>Female</td>\n",
       "      <td>Missouri</td>\n",
       "      <td>48</td>\n",
       "      <td>1/1/2017</td>\n",
       "      <td>3</td>\n",
       "      <td>married</td>\n",
       "      <td>165665</td>\n",
       "      <td>2524893</td>\n",
       "      <td>3</td>\n",
       "      <td>...</td>\n",
       "      <td>New customer</td>\n",
       "      <td>12.6</td>\n",
       "      <td>High spender</td>\n",
       "      <td>19.0</td>\n",
       "      <td>NaN</td>\n",
       "      <td>Midwest</td>\n",
       "      <td>High-activity customer</td>\n",
       "      <td>Middle-aged</td>\n",
       "      <td>35934</td>\n",
       "      <td>dairy eggs</td>\n",
       "    </tr>\n",
       "  </tbody>\n",
       "</table>\n",
       "<p>5 rows × 31 columns</p>\n",
       "</div>"
      ],
      "text/plain": [
       "   user_id  Gender     STATE  Age date_joined  Dependents Marital_status  \\\n",
       "0    26711  Female  Missouri   48    1/1/2017           3        married   \n",
       "1    26711  Female  Missouri   48    1/1/2017           3        married   \n",
       "2    26711  Female  Missouri   48    1/1/2017           3        married   \n",
       "3    26711  Female  Missouri   48    1/1/2017           3        married   \n",
       "4    26711  Female  Missouri   48    1/1/2017           3        married   \n",
       "\n",
       "   income  order_id  order_number  ...  loyalty_flag  mean_spending  \\\n",
       "0  165665   2543867             5  ...  New customer           12.6   \n",
       "1  165665   1285508             7  ...  New customer           12.6   \n",
       "2  165665   2578584             8  ...  New customer           12.6   \n",
       "3  165665    423547             2  ...  New customer           12.6   \n",
       "4  165665   2524893             3  ...  New customer           12.6   \n",
       "\n",
       "   spending_flag  median_order_days  median_flag   Region  \\\n",
       "0   High spender               19.0          NaN  Midwest   \n",
       "1   High spender               19.0          NaN  Midwest   \n",
       "2   High spender               19.0          NaN  Midwest   \n",
       "3   High spender               19.0          NaN  Midwest   \n",
       "4   High spender               19.0          NaN  Midwest   \n",
       "\n",
       "        Customer_activity    Age_group Unnamed: 0  department  \n",
       "0  High-activity customer  Middle-aged       9966   beverages  \n",
       "1  High-activity customer  Middle-aged       9966   beverages  \n",
       "2  High-activity customer  Middle-aged       9966   beverages  \n",
       "3  High-activity customer  Middle-aged      35934  dairy eggs  \n",
       "4  High-activity customer  Middle-aged      35934  dairy eggs  \n",
       "\n",
       "[5 rows x 31 columns]"
      ]
     },
     "execution_count": 7,
     "metadata": {},
     "output_type": "execute_result"
    }
   ],
   "source": [
    "# create new column for region\n",
    "C_MERGE['Region'] = region\n",
    "C_MERGE.head()"
   ]
  },
  {
   "cell_type": "code",
   "execution_count": 8,
   "id": "e5128edf",
   "metadata": {
    "scrolled": true
   },
   "outputs": [
    {
     "data": {
      "text/html": [
       "<div>\n",
       "<style scoped>\n",
       "    .dataframe tbody tr th:only-of-type {\n",
       "        vertical-align: middle;\n",
       "    }\n",
       "\n",
       "    .dataframe tbody tr th {\n",
       "        vertical-align: top;\n",
       "    }\n",
       "\n",
       "    .dataframe thead th {\n",
       "        text-align: right;\n",
       "    }\n",
       "</style>\n",
       "<table border=\"1\" class=\"dataframe\">\n",
       "  <thead>\n",
       "    <tr style=\"text-align: right;\">\n",
       "      <th>spending_flag</th>\n",
       "      <th>High spender</th>\n",
       "      <th>Low spender</th>\n",
       "    </tr>\n",
       "    <tr>\n",
       "      <th>Region</th>\n",
       "      <th></th>\n",
       "      <th></th>\n",
       "    </tr>\n",
       "  </thead>\n",
       "  <tbody>\n",
       "    <tr>\n",
       "      <th>Midwest</th>\n",
       "      <td>7589794</td>\n",
       "      <td>7791</td>\n",
       "    </tr>\n",
       "    <tr>\n",
       "      <th>Northeast</th>\n",
       "      <td>5717332</td>\n",
       "      <td>5607</td>\n",
       "    </tr>\n",
       "    <tr>\n",
       "      <th>South</th>\n",
       "      <td>10782288</td>\n",
       "      <td>10012</td>\n",
       "    </tr>\n",
       "    <tr>\n",
       "      <th>West</th>\n",
       "      <td>8284737</td>\n",
       "      <td>8480</td>\n",
       "    </tr>\n",
       "  </tbody>\n",
       "</table>\n",
       "</div>"
      ],
      "text/plain": [
       "spending_flag  High spender  Low spender\n",
       "Region                                  \n",
       "Midwest             7589794         7791\n",
       "Northeast           5717332         5607\n",
       "South              10782288        10012\n",
       "West                8284737         8480"
      ]
     },
     "execution_count": 8,
     "metadata": {},
     "output_type": "execute_result"
    }
   ],
   "source": [
    "## Region column successful.\n",
    "## Create crosstab to compare regions\n",
    "\n",
    "region_spending = pd.crosstab(C_MERGE['Region'], C_MERGE['spending_flag'], dropna = False)\n",
    "region_spending"
   ]
  },
  {
   "cell_type": "code",
   "execution_count": 9,
   "id": "21b244b7",
   "metadata": {},
   "outputs": [
    {
     "data": {
      "text/plain": [
       "High-activity customer    30965686\n",
       "Low-activity customer      1440355\n",
       "Name: Customer_activity, dtype: int64"
      ]
     },
     "execution_count": 9,
     "metadata": {},
     "output_type": "execute_result"
    }
   ],
   "source": [
    "## Success ! \n",
    "## Create new column Customer_activity to identify Low-activity customers\n",
    "\n",
    "C_MERGE.loc[C_MERGE['max_order']>=5,'Customer_activity']='High-activity customer'\n",
    "C_MERGE.loc[C_MERGE['max_order']<5,'Customer_activity']='Low-activity customer'\n",
    "\n",
    "C_MERGE['Customer_activity'].value_counts(dropna = False)"
   ]
  },
  {
   "cell_type": "code",
   "execution_count": 10,
   "id": "1abad19a",
   "metadata": {},
   "outputs": [
    {
     "data": {
      "text/html": [
       "<div>\n",
       "<style scoped>\n",
       "    .dataframe tbody tr th:only-of-type {\n",
       "        vertical-align: middle;\n",
       "    }\n",
       "\n",
       "    .dataframe tbody tr th {\n",
       "        vertical-align: top;\n",
       "    }\n",
       "\n",
       "    .dataframe thead th {\n",
       "        text-align: right;\n",
       "    }\n",
       "</style>\n",
       "<table border=\"1\" class=\"dataframe\">\n",
       "  <thead>\n",
       "    <tr style=\"text-align: right;\">\n",
       "      <th></th>\n",
       "      <th>user_id</th>\n",
       "      <th>Gender</th>\n",
       "      <th>STATE</th>\n",
       "      <th>Age</th>\n",
       "      <th>date_joined</th>\n",
       "      <th>Dependents</th>\n",
       "      <th>Marital_status</th>\n",
       "      <th>income</th>\n",
       "      <th>order_id</th>\n",
       "      <th>order_number</th>\n",
       "      <th>...</th>\n",
       "      <th>loyalty_flag</th>\n",
       "      <th>mean_spending</th>\n",
       "      <th>spending_flag</th>\n",
       "      <th>median_order_days</th>\n",
       "      <th>median_flag</th>\n",
       "      <th>Region</th>\n",
       "      <th>Customer_activity</th>\n",
       "      <th>Age_group</th>\n",
       "      <th>Unnamed: 0</th>\n",
       "      <th>department</th>\n",
       "    </tr>\n",
       "  </thead>\n",
       "  <tbody>\n",
       "    <tr>\n",
       "      <th>0</th>\n",
       "      <td>26711</td>\n",
       "      <td>Female</td>\n",
       "      <td>Missouri</td>\n",
       "      <td>48</td>\n",
       "      <td>1/1/2017</td>\n",
       "      <td>3</td>\n",
       "      <td>married</td>\n",
       "      <td>165665</td>\n",
       "      <td>2543867</td>\n",
       "      <td>5</td>\n",
       "      <td>...</td>\n",
       "      <td>New customer</td>\n",
       "      <td>12.6</td>\n",
       "      <td>High spender</td>\n",
       "      <td>19.0</td>\n",
       "      <td>NaN</td>\n",
       "      <td>Midwest</td>\n",
       "      <td>High-activity customer</td>\n",
       "      <td>Middle-aged</td>\n",
       "      <td>9966</td>\n",
       "      <td>beverages</td>\n",
       "    </tr>\n",
       "    <tr>\n",
       "      <th>1</th>\n",
       "      <td>26711</td>\n",
       "      <td>Female</td>\n",
       "      <td>Missouri</td>\n",
       "      <td>48</td>\n",
       "      <td>1/1/2017</td>\n",
       "      <td>3</td>\n",
       "      <td>married</td>\n",
       "      <td>165665</td>\n",
       "      <td>1285508</td>\n",
       "      <td>7</td>\n",
       "      <td>...</td>\n",
       "      <td>New customer</td>\n",
       "      <td>12.6</td>\n",
       "      <td>High spender</td>\n",
       "      <td>19.0</td>\n",
       "      <td>NaN</td>\n",
       "      <td>Midwest</td>\n",
       "      <td>High-activity customer</td>\n",
       "      <td>Middle-aged</td>\n",
       "      <td>9966</td>\n",
       "      <td>beverages</td>\n",
       "    </tr>\n",
       "    <tr>\n",
       "      <th>2</th>\n",
       "      <td>26711</td>\n",
       "      <td>Female</td>\n",
       "      <td>Missouri</td>\n",
       "      <td>48</td>\n",
       "      <td>1/1/2017</td>\n",
       "      <td>3</td>\n",
       "      <td>married</td>\n",
       "      <td>165665</td>\n",
       "      <td>2578584</td>\n",
       "      <td>8</td>\n",
       "      <td>...</td>\n",
       "      <td>New customer</td>\n",
       "      <td>12.6</td>\n",
       "      <td>High spender</td>\n",
       "      <td>19.0</td>\n",
       "      <td>NaN</td>\n",
       "      <td>Midwest</td>\n",
       "      <td>High-activity customer</td>\n",
       "      <td>Middle-aged</td>\n",
       "      <td>9966</td>\n",
       "      <td>beverages</td>\n",
       "    </tr>\n",
       "    <tr>\n",
       "      <th>3</th>\n",
       "      <td>26711</td>\n",
       "      <td>Female</td>\n",
       "      <td>Missouri</td>\n",
       "      <td>48</td>\n",
       "      <td>1/1/2017</td>\n",
       "      <td>3</td>\n",
       "      <td>married</td>\n",
       "      <td>165665</td>\n",
       "      <td>423547</td>\n",
       "      <td>2</td>\n",
       "      <td>...</td>\n",
       "      <td>New customer</td>\n",
       "      <td>12.6</td>\n",
       "      <td>High spender</td>\n",
       "      <td>19.0</td>\n",
       "      <td>NaN</td>\n",
       "      <td>Midwest</td>\n",
       "      <td>High-activity customer</td>\n",
       "      <td>Middle-aged</td>\n",
       "      <td>35934</td>\n",
       "      <td>dairy eggs</td>\n",
       "    </tr>\n",
       "    <tr>\n",
       "      <th>4</th>\n",
       "      <td>26711</td>\n",
       "      <td>Female</td>\n",
       "      <td>Missouri</td>\n",
       "      <td>48</td>\n",
       "      <td>1/1/2017</td>\n",
       "      <td>3</td>\n",
       "      <td>married</td>\n",
       "      <td>165665</td>\n",
       "      <td>2524893</td>\n",
       "      <td>3</td>\n",
       "      <td>...</td>\n",
       "      <td>New customer</td>\n",
       "      <td>12.6</td>\n",
       "      <td>High spender</td>\n",
       "      <td>19.0</td>\n",
       "      <td>NaN</td>\n",
       "      <td>Midwest</td>\n",
       "      <td>High-activity customer</td>\n",
       "      <td>Middle-aged</td>\n",
       "      <td>35934</td>\n",
       "      <td>dairy eggs</td>\n",
       "    </tr>\n",
       "  </tbody>\n",
       "</table>\n",
       "<p>5 rows × 31 columns</p>\n",
       "</div>"
      ],
      "text/plain": [
       "   user_id  Gender     STATE  Age date_joined  Dependents Marital_status  \\\n",
       "0    26711  Female  Missouri   48    1/1/2017           3        married   \n",
       "1    26711  Female  Missouri   48    1/1/2017           3        married   \n",
       "2    26711  Female  Missouri   48    1/1/2017           3        married   \n",
       "3    26711  Female  Missouri   48    1/1/2017           3        married   \n",
       "4    26711  Female  Missouri   48    1/1/2017           3        married   \n",
       "\n",
       "   income  order_id  order_number  ...  loyalty_flag  mean_spending  \\\n",
       "0  165665   2543867             5  ...  New customer           12.6   \n",
       "1  165665   1285508             7  ...  New customer           12.6   \n",
       "2  165665   2578584             8  ...  New customer           12.6   \n",
       "3  165665    423547             2  ...  New customer           12.6   \n",
       "4  165665   2524893             3  ...  New customer           12.6   \n",
       "\n",
       "   spending_flag  median_order_days  median_flag   Region  \\\n",
       "0   High spender               19.0          NaN  Midwest   \n",
       "1   High spender               19.0          NaN  Midwest   \n",
       "2   High spender               19.0          NaN  Midwest   \n",
       "3   High spender               19.0          NaN  Midwest   \n",
       "4   High spender               19.0          NaN  Midwest   \n",
       "\n",
       "        Customer_activity    Age_group Unnamed: 0  department  \n",
       "0  High-activity customer  Middle-aged       9966   beverages  \n",
       "1  High-activity customer  Middle-aged       9966   beverages  \n",
       "2  High-activity customer  Middle-aged       9966   beverages  \n",
       "3  High-activity customer  Middle-aged      35934  dairy eggs  \n",
       "4  High-activity customer  Middle-aged      35934  dairy eggs  \n",
       "\n",
       "[5 rows x 31 columns]"
      ]
     },
     "execution_count": 10,
     "metadata": {},
     "output_type": "execute_result"
    }
   ],
   "source": [
    "## Create subset for High-activity customers\n",
    "\n",
    "\n",
    "high_activity_cust = C_MERGE[C_MERGE['Customer_activity'] == 'High-activity customer']\n",
    "high_activity_cust.shape\n",
    "high_activity_cust.head()"
   ]
  },
  {
   "cell_type": "code",
   "execution_count": 11,
   "id": "1797c839",
   "metadata": {},
   "outputs": [],
   "source": [
    "## Export this subset\n",
    "high_activity_cust.to_pickle(os.path.join(path,'02 Data','Prepared Data','high_activity_2.pkl'))"
   ]
  },
  {
   "cell_type": "markdown",
   "id": "9aab3e8e",
   "metadata": {},
   "source": [
    "### Creating demographic information / Customer profiling"
   ]
  },
  {
   "cell_type": "code",
   "execution_count": 12,
   "id": "60c492c4",
   "metadata": {},
   "outputs": [],
   "source": [
    "C_MERGE.loc[C_MERGE['Age'] >= 35 & (C_MERGE['Age'] < 60), 'Age_group'] = 'Middle-aged'"
   ]
  },
  {
   "cell_type": "code",
   "execution_count": 13,
   "id": "fc6260b9",
   "metadata": {},
   "outputs": [],
   "source": [
    "C_MERGE.loc[C_MERGE['Age'] <35,'Age_group']='Young adult'"
   ]
  },
  {
   "cell_type": "code",
   "execution_count": 14,
   "id": "b849b002",
   "metadata": {},
   "outputs": [],
   "source": [
    "C_MERGE.loc[C_MERGE['Age'] >= 60,'Age_group']='Elderly'"
   ]
  },
  {
   "cell_type": "code",
   "execution_count": 15,
   "id": "8f69b48d",
   "metadata": {},
   "outputs": [
    {
     "data": {
      "text/plain": [
       "Middle-aged    12710446\n",
       "Elderly        11067627\n",
       "Young adult     8627968\n",
       "Name: Age_group, dtype: int64"
      ]
     },
     "execution_count": 15,
     "metadata": {},
     "output_type": "execute_result"
    }
   ],
   "source": [
    "C_MERGE['Age_group'].value_counts()"
   ]
  },
  {
   "cell_type": "code",
   "execution_count": 16,
   "id": "cc4c7eb3",
   "metadata": {},
   "outputs": [
    {
     "data": {
      "image/png": "[encoded data removed]",
      "text/plain": [
       "<Figure size 640x480 with 1 Axes>"
      ]
     },
     "metadata": {},
     "output_type": "display_data"
    }
   ],
   "source": [
    "age_bar = C_MERGE['Age_group'].value_counts().plot.bar()"
   ]
  },
  {
   "cell_type": "code",
   "execution_count": 18,
   "id": "c222d1f9",
   "metadata": {},
   "outputs": [],
   "source": [
    "## Save visualisation for client\n",
    "age_bar.figure.savefig(os.path.join(path, '04 Analysis','Visualisations', 'Age_bar2.png'), bbox_inches='tight')"
   ]
  },
  {
   "cell_type": "code",
   "execution_count": 20,
   "id": "fa8eaf28",
   "metadata": {},
   "outputs": [],
   "source": [
    "region_age=pd.crosstab(C_MERGE['Region'],C_MERGE['Age_group'],dropna=False)"
   ]
  },
  {
   "cell_type": "code",
   "execution_count": 21,
   "id": "aca163bb",
   "metadata": {},
   "outputs": [
    {
     "data": {
      "image/png": "[encoded data removed]",
      "text/plain": [
       "<Figure size 640x480 with 1 Axes>"
      ]
     },
     "metadata": {},
     "output_type": "display_data"
    }
   ],
   "source": [
    "## Create a visual comparing age and region\n",
    "regions_age=region_age.plot.bar()\n",
    "plt.title('Age Group by Region')\n",
    "plt.show()"
   ]
  },
  {
   "cell_type": "code",
   "execution_count": 22,
   "id": "cd31dd6c",
   "metadata": {},
   "outputs": [],
   "source": [
    "## Save visualisation for client\n",
    "regions_age.figure.savefig(os.path.join(path, '04 Analysis','Visualisations', 'Age_region2.png'), bbox_inches='tight')"
   ]
  },
  {
   "cell_type": "code",
   "execution_count": 23,
   "id": "bebd80ba",
   "metadata": {},
   "outputs": [],
   "source": [
    "## Create a crosstab with Department and Prices.\n",
    "## Trying different combinations when it works,great. When it doesn't, try again.\n",
    "department_dow = pd.crosstab(C_MERGE['spending_flag'],C_MERGE['Region'],dropna=False,)"
   ]
  },
  {
   "cell_type": "code",
   "execution_count": 24,
   "id": "5f42e955",
   "metadata": {},
   "outputs": [
    {
     "data": {
      "image/png": "[encoded data removed]",
      "text/plain": [
       "<Figure size 640x480 with 1 Axes>"
      ]
     },
     "metadata": {},
     "output_type": "display_data"
    }
   ],
   "source": [
    "department_dow_viz=department_dow.plot.bar()\n",
    "plt.title('Location of High Spenders')\n",
    "plt.show()"
   ]
  },
  {
   "cell_type": "code",
   "execution_count": 25,
   "id": "6476f943",
   "metadata": {},
   "outputs": [],
   "source": [
    "## Save visualisation for client\n",
    "department_dow_viz.figure.savefig(os.path.join(path, '04 Analysis','Visualisations', 'High Spender Location.png'), bbox_inches='tight')"
   ]
  },
  {
   "cell_type": "code",
   "execution_count": 27,
   "id": "cccea38e",
   "metadata": {},
   "outputs": [],
   "source": [
    "## This viz shows the South leads in sales for High Spenders, while the Northeast is the lowest in sales.\n",
    "## Between the West and Midwest the difference is not so great."
   ]
  },
  {
   "cell_type": "code",
   "execution_count": 28,
   "id": "19aa04d0",
   "metadata": {},
   "outputs": [],
   "source": [
    "Marital_age = pd.crosstab(C_MERGE['Marital_status'],C_MERGE['Age_group'],dropna=False,)"
   ]
  },
  {
   "cell_type": "code",
   "execution_count": 29,
   "id": "4fdbc944",
   "metadata": {},
   "outputs": [
    {
     "data": {
      "image/png": "[encoded data removed]",
      "text/plain": [
       "<Figure size 640x480 with 1 Axes>"
      ]
     },
     "metadata": {},
     "output_type": "display_data"
    }
   ],
   "source": [
    "Marital_age_viz=Marital_age.plot.bar()\n",
    "plt.title('Marital Status and Age')\n",
    "plt.show()"
   ]
  },
  {
   "cell_type": "code",
   "execution_count": 30,
   "id": "58bf9b79",
   "metadata": {},
   "outputs": [],
   "source": [
    "Marital_age_viz.figure.savefig(os.path.join(path, '04 Analysis','Visualisations', 'Marital status.png'), bbox_inches='tight')"
   ]
  },
  {
   "cell_type": "code",
   "execution_count": 31,
   "id": "cc5be650",
   "metadata": {},
   "outputs": [],
   "source": [
    "##  The viz tells us that the majority of customers are married and either Middle-aged or Elderly."
   ]
  },
  {
   "cell_type": "code",
   "execution_count": 32,
   "id": "27da26e8",
   "metadata": {},
   "outputs": [],
   "source": [
    "Region_gender = pd.crosstab(C_MERGE['Gender'],C_MERGE['Region'],dropna=False,)"
   ]
  },
  {
   "cell_type": "code",
   "execution_count": 33,
   "id": "ccd2b373",
   "metadata": {},
   "outputs": [
    {
     "data": {
      "image/png": "[encoded data removed]",
      "text/plain": [
       "<Figure size 640x480 with 1 Axes>"
      ]
     },
     "metadata": {},
     "output_type": "display_data"
    }
   ],
   "source": [
    "## Region and Gender \n",
    "Region_gender_viz=Region_gender.plot.bar()\n",
    "plt.title('Gender per Region')\n",
    "plt.show()"
   ]
  },
  {
   "cell_type": "code",
   "execution_count": 34,
   "id": "d88fdab8",
   "metadata": {},
   "outputs": [],
   "source": [
    "## This chart shows the spending habits across the regions when looking at Gender are essentially equal.\n",
    "Region_gender_viz.figure.savefig(os.path.join(path, '04 Analysis','Visualisations', 'Gender v Region.png'), bbox_inches='tight')\n"
   ]
  },
  {
   "cell_type": "code",
   "execution_count": 35,
   "id": "d4d578ab",
   "metadata": {},
   "outputs": [],
   "source": [
    "C_MERGE.to_pickle(os.path.join(r'/Users/ECC/Career Foundry/Anaconda Python CF Exercises/02 Data/Prepared Data/C_MERGE.pkl'))"
   ]
  },
  {
   "cell_type": "code",
   "execution_count": null,
   "id": "ac564138",
   "metadata": {},
   "outputs": [],
   "source": []
  }
 ],
 "metadata": {
  "kernelspec": {
   "display_name": "Python 3 (ipykernel)",
   "language": "python",
   "name": "python3"
  },
  "language_info": {
   "codemirror_mode": {
    "name": "ipython",
    "version": 3
   },
   "file_extension": ".py",
   "mimetype": "text/x-python",
   "name": "python",
   "nbconvert_exporter": "python",
   "pygments_lexer": "ipython3",
   "version": "3.10.9"
  }
 },
 "nbformat": 4,
 "nbformat_minor": 5
}
